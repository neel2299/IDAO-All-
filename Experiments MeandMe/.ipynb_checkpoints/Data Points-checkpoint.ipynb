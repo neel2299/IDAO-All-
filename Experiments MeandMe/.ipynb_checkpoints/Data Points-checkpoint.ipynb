{
 "cells": [
  {
   "cell_type": "code",
   "execution_count": 27,
   "id": "2ea274fa",
   "metadata": {},
   "outputs": [],
   "source": [
    "path = \"./data/dichalcogenides_public\"\n",
    "struc = path + \"/structures/\""
   ]
  },
  {
   "cell_type": "code",
   "execution_count": 45,
   "id": "bda8e8d4",
   "metadata": {},
   "outputs": [
    {
     "name": "stderr",
     "output_type": "stream",
     "text": [
      "C:\\ProgramData\\Anaconda3\\lib\\site-packages\\pymatgen\\core\\__init__.py:49: UserWarning: Error loading .pmgrc.yaml: [Errno 2] No such file or directory: 'C:\\\\Users\\\\suhaa\\\\.pmgrc.yaml'. You may need to reconfigure your yaml file.\n",
      "  warnings.warn(f\"Error loading .pmgrc.yaml: {ex}. You may need to reconfigure your yaml file.\")\n"
     ]
    }
   ],
   "source": [
    "import pandas as pd\n",
    "import json\n",
    "from pymatgen.core import Structure\n",
    " "
   ]
  },
  {
   "cell_type": "code",
   "execution_count": 29,
   "id": "6b27a417",
   "metadata": {},
   "outputs": [],
   "source": [
    "df = pd.read_csv(path+\"/targets.csv\")"
   ]
  },
  {
   "cell_type": "code",
   "execution_count": 47,
   "id": "379264ef",
   "metadata": {},
   "outputs": [
    {
     "name": "stdout",
     "output_type": "stream",
     "text": [
      "6141cf0f51c1cbd9654b8870\n",
      "./data/dichalcogenides_public/structures/6141cf0f51c1cbd9654b8870.json\n"
     ]
    }
   ],
   "source": [
    "for ind, row in df.iterrows():\n",
    "    print(row[\"_id\"])\n",
    "    getpath = struc + row[\"_id\"]+ \".json\"\n",
    "    with open(getpath) as f:\n",
    "        json_df = json.load(f)\n",
    "    print(getpath)\n",
    "    break"
   ]
  },
  {
   "cell_type": "code",
   "execution_count": 34,
   "id": "ea7f3b15",
   "metadata": {},
   "outputs": [
    {
     "data": {
      "text/plain": [
       "dict_keys(['@module', '@class', 'charge', 'lattice', 'sites'])"
      ]
     },
     "execution_count": 34,
     "metadata": {},
     "output_type": "execute_result"
    }
   ],
   "source": [
    "json_df.keys()"
   ]
  },
  {
   "cell_type": "code",
   "execution_count": 37,
   "id": "f3e2e870",
   "metadata": {},
   "outputs": [
    {
     "data": {
      "text/plain": [
       "'Structure'"
      ]
     },
     "execution_count": 37,
     "metadata": {},
     "output_type": "execute_result"
    }
   ],
   "source": [
    "json_df[\"@class\"]"
   ]
  },
  {
   "cell_type": "code",
   "execution_count": 38,
   "id": "06a37bbe",
   "metadata": {},
   "outputs": [],
   "source": [
    "json_df[\"charge\"]"
   ]
  },
  {
   "cell_type": "code",
   "execution_count": 40,
   "id": "0fcdd0d9",
   "metadata": {},
   "outputs": [
    {
     "data": {
      "text/plain": [
       "{'matrix': [[25.5225256, 0.0, 1.5628039641098191e-15],\n",
       "  [-12.761262799999994, 22.10315553833868, 1.5628039641098191e-15],\n",
       "  [0.0, 0.0, 14.879004]],\n",
       " 'a': 25.5225256,\n",
       " 'b': 25.5225256,\n",
       " 'c': 14.879004,\n",
       " 'alpha': 90.0,\n",
       " 'beta': 90.0,\n",
       " 'gamma': 119.99999999999999,\n",
       " 'volume': 8393.668021812642}"
      ]
     },
     "execution_count": 40,
     "metadata": {},
     "output_type": "execute_result"
    }
   ],
   "source": [
    "json_df[\"lattice\"]"
   ]
  },
  {
   "cell_type": "code",
   "execution_count": 49,
   "id": "7d56ff74",
   "metadata": {},
   "outputs": [],
   "source": [
    "struct_s = Structure.from_dict(json_df)"
   ]
  },
  {
   "cell_type": "code",
   "execution_count": null,
   "id": "a07b4c73",
   "metadata": {},
   "outputs": [],
   "source": []
  }
 ],
 "metadata": {
  "kernelspec": {
   "display_name": "Python 3",
   "language": "python",
   "name": "python3"
  },
  "language_info": {
   "codemirror_mode": {
    "name": "ipython",
    "version": 3
   },
   "file_extension": ".py",
   "mimetype": "text/x-python",
   "name": "python",
   "nbconvert_exporter": "python",
   "pygments_lexer": "ipython3",
   "version": "3.8.8"
  }
 },
 "nbformat": 4,
 "nbformat_minor": 5
}
