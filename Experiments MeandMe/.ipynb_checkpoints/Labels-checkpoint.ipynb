{
 "cells": [
  {
   "cell_type": "code",
   "execution_count": 1,
   "id": "b387ea3f",
   "metadata": {},
   "outputs": [],
   "source": [
    "import pandas as pd\n",
    "import matplotlib.pyplot as plt\n",
    "import scipy.stats as stats\n",
    "from scipy.stats import pareto"
   ]
  },
  {
   "cell_type": "code",
   "execution_count": 2,
   "id": "3f42679a",
   "metadata": {},
   "outputs": [],
   "source": [
    "path = \"./data/dichalcogenides_public\"\n",
    "df = pd.read_csv(path+\"/targets.csv\")"
   ]
  },
  {
   "cell_type": "code",
   "execution_count": 3,
   "id": "1bde2f26",
   "metadata": {},
   "outputs": [
    {
     "data": {
      "text/html": [
       "<div>\n",
       "<style scoped>\n",
       "    .dataframe tbody tr th:only-of-type {\n",
       "        vertical-align: middle;\n",
       "    }\n",
       "\n",
       "    .dataframe tbody tr th {\n",
       "        vertical-align: top;\n",
       "    }\n",
       "\n",
       "    .dataframe thead th {\n",
       "        text-align: right;\n",
       "    }\n",
       "</style>\n",
       "<table border=\"1\" class=\"dataframe\">\n",
       "  <thead>\n",
       "    <tr style=\"text-align: right;\">\n",
       "      <th></th>\n",
       "      <th>_id</th>\n",
       "      <th>band_gap</th>\n",
       "    </tr>\n",
       "  </thead>\n",
       "  <tbody>\n",
       "    <tr>\n",
       "      <th>0</th>\n",
       "      <td>6141cf0f51c1cbd9654b8870</td>\n",
       "      <td>1.0843</td>\n",
       "    </tr>\n",
       "    <tr>\n",
       "      <th>1</th>\n",
       "      <td>6141cf1051c1cbd9654b8872</td>\n",
       "      <td>1.1102</td>\n",
       "    </tr>\n",
       "    <tr>\n",
       "      <th>2</th>\n",
       "      <td>6141cf11cc0e69a0cf28ab35</td>\n",
       "      <td>1.1484</td>\n",
       "    </tr>\n",
       "    <tr>\n",
       "      <th>3</th>\n",
       "      <td>6141cf11b842c2e72e2f2d48</td>\n",
       "      <td>1.8068</td>\n",
       "    </tr>\n",
       "    <tr>\n",
       "      <th>4</th>\n",
       "      <td>6141cf11ae4fb853db2e3f14</td>\n",
       "      <td>0.3600</td>\n",
       "    </tr>\n",
       "    <tr>\n",
       "      <th>...</th>\n",
       "      <td>...</td>\n",
       "      <td>...</td>\n",
       "    </tr>\n",
       "    <tr>\n",
       "      <th>2961</th>\n",
       "      <td>6146d0b54e27a1844a5f0b02</td>\n",
       "      <td>1.1461</td>\n",
       "    </tr>\n",
       "    <tr>\n",
       "      <th>2962</th>\n",
       "      <td>6146dd853ac25c70a5c6cdeb</td>\n",
       "      <td>0.3550</td>\n",
       "    </tr>\n",
       "    <tr>\n",
       "      <th>2963</th>\n",
       "      <td>6146e9103ac25c70a5c6cded</td>\n",
       "      <td>0.3491</td>\n",
       "    </tr>\n",
       "    <tr>\n",
       "      <th>2964</th>\n",
       "      <td>6146ecdb3ac25c70a5c6cdef</td>\n",
       "      <td>0.3506</td>\n",
       "    </tr>\n",
       "    <tr>\n",
       "      <th>2965</th>\n",
       "      <td>6147d3de31cf3ef3d4a9f846</td>\n",
       "      <td>0.2888</td>\n",
       "    </tr>\n",
       "  </tbody>\n",
       "</table>\n",
       "<p>2966 rows × 2 columns</p>\n",
       "</div>"
      ],
      "text/plain": [
       "                           _id  band_gap\n",
       "0     6141cf0f51c1cbd9654b8870    1.0843\n",
       "1     6141cf1051c1cbd9654b8872    1.1102\n",
       "2     6141cf11cc0e69a0cf28ab35    1.1484\n",
       "3     6141cf11b842c2e72e2f2d48    1.8068\n",
       "4     6141cf11ae4fb853db2e3f14    0.3600\n",
       "...                        ...       ...\n",
       "2961  6146d0b54e27a1844a5f0b02    1.1461\n",
       "2962  6146dd853ac25c70a5c6cdeb    0.3550\n",
       "2963  6146e9103ac25c70a5c6cded    0.3491\n",
       "2964  6146ecdb3ac25c70a5c6cdef    0.3506\n",
       "2965  6147d3de31cf3ef3d4a9f846    0.2888\n",
       "\n",
       "[2966 rows x 2 columns]"
      ]
     },
     "execution_count": 3,
     "metadata": {},
     "output_type": "execute_result"
    }
   ],
   "source": [
    "df"
   ]
  },
  {
   "cell_type": "code",
   "execution_count": 8,
   "id": "ea062d51",
   "metadata": {},
   "outputs": [
    {
     "data": {
      "image/png": "[encoded data removed]",
      "text/plain": [
       "<Figure size 432x288 with 1 Axes>"
      ]
     },
     "metadata": {
      "needs_background": "light"
     },
     "output_type": "display_data"
    }
   ],
   "source": [
    "rawbins = plt.hist(df[\"band_gap\"], bins=50)\n"
   ]
  },
  {
   "cell_type": "code",
   "execution_count": 15,
   "id": "5f908e88",
   "metadata": {},
   "outputs": [
    {
     "data": {
      "text/plain": [
       "(array([  2.,   0.,   2.,   0.,   6., 136.,  64., 502., 277., 466.,   1.,\n",
       "          1.,   1.,   0.,   0.,   0.,  19.,   1.,   0.,   0.,   0.,   0.,\n",
       "          0.,   0.,  12.,  20.,  19.,  19.,  64., 235., 702.,  42.,   1.,\n",
       "          0.,   0.,   0.,   0.,   0.,   0.,   0.,   0.,   0.,   0.,   0.,\n",
       "          0.,   0.,   0.,   0.,   0., 374.]),\n",
       " array([0.0939  , 0.128234, 0.162568, 0.196902, 0.231236, 0.26557 ,\n",
       "        0.299904, 0.334238, 0.368572, 0.402906, 0.43724 , 0.471574,\n",
       "        0.505908, 0.540242, 0.574576, 0.60891 , 0.643244, 0.677578,\n",
       "        0.711912, 0.746246, 0.78058 , 0.814914, 0.849248, 0.883582,\n",
       "        0.917916, 0.95225 , 0.986584, 1.020918, 1.055252, 1.089586,\n",
       "        1.12392 , 1.158254, 1.192588, 1.226922, 1.261256, 1.29559 ,\n",
       "        1.329924, 1.364258, 1.398592, 1.432926, 1.46726 , 1.501594,\n",
       "        1.535928, 1.570262, 1.604596, 1.63893 , 1.673264, 1.707598,\n",
       "        1.741932, 1.776266, 1.8106  ]),\n",
       " <BarContainer object of 50 artists>)"
      ]
     },
     "execution_count": 15,
     "metadata": {},
     "output_type": "execute_result"
    }
   ],
   "source": [
    "rawbins"
   ]
  },
  {
   "cell_type": "code",
   "execution_count": null,
   "id": "ecb9216a",
   "metadata": {},
   "outputs": [],
   "source": [
    "def get_loss(arr1, arr2):\n",
    "    n = len(arr1)\n",
    "    summ = 0\n",
    "    for i in range(n):\n",
    "        summ += (arr1[i] - arr2[i])**2\n",
    "    return summ/n\n"
   ]
  },
  {
   "cell_type": "code",
   "execution_count": null,
   "id": "d78de7ea",
   "metadata": {},
   "outputs": [],
   "source": [
    "def discretize(arr):\n",
    "    for elem in arr:\n",
    "        g\n",
    "        "
   ]
  },
  {
   "cell_type": "code",
   "execution_count": 17,
   "id": "86a37549",
   "metadata": {},
   "outputs": [],
   "source": [
    "bin_arr = rawbins[1]\n",
    "\n",
    "for i in range(1, len(bin_arr)):\n",
    "    break\n",
    "    "
   ]
  }
 ],
 "metadata": {
  "kernelspec": {
   "display_name": "Python 3",
   "language": "python",
   "name": "python3"
  },
  "language_info": {
   "codemirror_mode": {
    "name": "ipython",
    "version": 3
   },
   "file_extension": ".py",
   "mimetype": "text/x-python",
   "name": "python",
   "nbconvert_exporter": "python",
   "pygments_lexer": "ipython3",
   "version": "3.8.8"
  }
 },
 "nbformat": 4,
 "nbformat_minor": 5
}
